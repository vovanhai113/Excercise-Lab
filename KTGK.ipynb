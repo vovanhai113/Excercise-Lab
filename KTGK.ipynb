{
  "nbformat": 4,
  "nbformat_minor": 0,
  "metadata": {
    "colab": {
      "name": "KTGK.ipynb",
      "provenance": [],
      "collapsed_sections": [],
      "toc_visible": true
    },
    "kernelspec": {
      "name": "python3",
      "display_name": "Python 3"
    }
  },
  "cells": [
    {
      "cell_type": "code",
      "metadata": {
        "colab": {
          "base_uri": "https://localhost:8080/"
        },
        "id": "1NGZLGVa6mjl",
        "outputId": "44eacee5-0024-4c10-fd5c-acf40787e638"
      },
      "source": [
        "#câu 1:\r\n",
        "listA = [1, 10, 20, 5, 60, 30, 10, 9, 10]\r\n",
        "listB = []\r\n",
        "for x in listA:\r\n",
        "  if x!=10:\r\n",
        "    listB.append(x)\r\n",
        "print(listB)"
      ],
      "execution_count": null,
      "outputs": [
        {
          "output_type": "stream",
          "text": [
            "[1, 20, 5, 60, 30, 9]\n"
          ],
          "name": "stdout"
        }
      ]
    },
    {
      "cell_type": "code",
      "metadata": {
        "colab": {
          "base_uri": "https://localhost:8080/"
        },
        "id": "n-AFTyqn_M2x",
        "outputId": "535716ee-4773-4fbc-ca6e-d05c522fdb9c"
      },
      "source": [
        "# câu 2:\r\n",
        "list1 = [\"A\", \"B\", \"C\", \"D\", \"E\", \"F\"]\r\n",
        "list2 = [1,2,3,4,5,6]\r\n",
        "Dictionary = dict(zip(list1, list2))\r\n",
        "print(Dictionary)"
      ],
      "execution_count": null,
      "outputs": [
        {
          "output_type": "stream",
          "text": [
            "{'A': 1, 'B': 2, 'C': 3, 'D': 4, 'E': 5, 'F': 6}\n"
          ],
          "name": "stdout"
        }
      ]
    },
    {
      "cell_type": "code",
      "metadata": {
        "colab": {
          "base_uri": "https://localhost:8080/"
        },
        "id": "Hf_EdxSFC75O",
        "outputId": "c446262a-549f-483f-ed55-1b171a779ffd"
      },
      "source": [
        "# cau 2:\r\n",
        "list1 = [\"A\",\"B\",\"C\",\"D\",\"E\",\"F\"]\r\n",
        "list2 = [1,2,3,4,5,6]\r\n",
        "dic={}\r\n",
        "for x in range(len(list1)):\r\n",
        "\t\tdic[list1[x]] = list2[x]\r\n",
        "print(dic)"
      ],
      "execution_count": null,
      "outputs": [
        {
          "output_type": "stream",
          "text": [
            "{'A': 1, 'B': 2, 'C': 3, 'D': 4, 'E': 5, 'F': 6}\n"
          ],
          "name": "stdout"
        }
      ]
    },
    {
      "cell_type": "code",
      "metadata": {
        "colab": {
          "base_uri": "https://localhost:8080/"
        },
        "id": "x70Rw5s8DqC3",
        "outputId": "fb7d3ed4-a0d8-470d-985e-0a632abfe605"
      },
      "source": [
        "# câu 3:\r\n",
        "person={\r\n",
        "\t\t\t\"Name\":\"Quoc Nam\",\r\n",
        "\t\t\t\"Age\": 28,\r\n",
        "\t\t\t\"Salary\":8000,\r\n",
        "\t\t\t\"City\":\"Tuy Hoa\"\r\n",
        "\t}\r\n",
        "KeyRemove=[\"Salary\", \"City\"]\r\n",
        "for x in KeyRemove:\r\n",
        "\t\tif x in person:\r\n",
        "\t\t\tperson.pop(x)\r\n",
        "print(person)"
      ],
      "execution_count": null,
      "outputs": [
        {
          "output_type": "stream",
          "text": [
            "{'Name': 'Quoc Nam', 'Age': 28}\n"
          ],
          "name": "stdout"
        }
      ]
    },
    {
      "cell_type": "code",
      "metadata": {
        "id": "g-2FtfZIC_o3"
      },
      "source": [
        "import pandas as pd\r\n",
        "\r\n",
        "data = pd.read_csv(\"/content/drive/MyDrive/mobile_data (1).csv\", delimiter=\",\")\r\n",
        "data[:5]\r\n",
        "\r\n"
      ],
      "execution_count": null,
      "outputs": []
    },
    {
      "cell_type": "code",
      "metadata": {
        "colab": {
          "base_uri": "https://localhost:8080/"
        },
        "id": "pKiI-8g6RTOx",
        "outputId": "14d2e7ee-2360-4121-9dd8-88ba9bcd0393"
      },
      "source": [
        "import pandas as pd\r\n",
        "\r\n",
        "data = pd.read_csv(\"/content/drive/MyDrive/mobile_data (1).csv\", delimiter=\",\")\r\n",
        "print (data.head(5))\r\n",
        "print (data.tail(5))"
      ],
      "execution_count": null,
      "outputs": [
        {
          "output_type": "stream",
          "text": [
            "   index      company   body-style  ...  horsepower  average-mileage    price\n",
            "0      0  alfa-romero  convertible  ...         111               21  13495.0\n",
            "1      1  alfa-romero  convertible  ...         111               21  16500.0\n",
            "2      2  alfa-romero    hatchback  ...         154               19  16500.0\n",
            "3      3         audi        sedan  ...         102               24  13950.0\n",
            "4      4         audi        sedan  ...         115               18  17450.0\n",
            "\n",
            "[5 rows x 10 columns]\n",
            "    index     company body-style  ...  horsepower  average-mileage    price\n",
            "56     81  volkswagen      sedan  ...          85               27   7975.0\n",
            "57     82  volkswagen      sedan  ...          52               37   7995.0\n",
            "58     86  volkswagen      sedan  ...         100               26   9995.0\n",
            "59     87       volvo      sedan  ...         114               23  12940.0\n",
            "60     88       volvo      wagon  ...         114               23  13415.0\n",
            "\n",
            "[5 rows x 10 columns]\n"
          ],
          "name": "stdout"
        }
      ]
    }
  ]
}